{
 "cells": [
  {
   "cell_type": "code",
   "execution_count": 2,
   "metadata": {},
   "outputs": [],
   "source": [
    "import numpy as np \n",
    "import matplotlib.pyplot as plt \n",
    "from sklearn.datasets import make_blobs\n",
    "from sklearn.model_selection import train_test_split\n",
    "from sklearn.cluster import KMeans\n",
    "\n",
    "import random\n"
   ]
  },
  {
   "cell_type": "code",
   "execution_count": 3,
   "metadata": {},
   "outputs": [],
   "source": [
    "class Cluster:\n",
    "    def __init__ (self, centers , name):\n",
    "        self.center = center \n",
    "        self.name = name \n",
    "        self.points= []\n",
    "    def distance (self,point):\n",
    "        return np.sqrt(np.sum((self.center-point)**2))\n",
    "    def relocate (self):\n",
    "        self.center = np.mean(self.points, axis=0)\n",
    "        self.points.clear()\n",
    "\n",
    "\n",
    "\n",
    "\n",
    "class KMeansCustom:\n",
    "    def __init__ (self, n_clusters=5, max_iters=20):\n",
    "        self.n_clusters = n_clusters\n",
    "        self.max_iters = max_iters\n",
    "    def fit (self, X):\n",
    "        clusters =[]\n",
    "        for i in range (self.clusters):\n",
    "            cluster=Cluster(center = random.choice(X),name = i )\n",
    "            clusters.append(cluster)\n",
    "        for iter in self.max_iters:\n",
    "            labels=[]\n",
    "            for point in X :\n",
    "                distance =[]\n",
    "                for cluster in clusters:\n",
    "                    distance= cluster.distance(point)\n",
    "                    distances.append((distance, cluster.name))\n",
    "                    distance, cluster_name = sorted(distances)[0]\n",
    "                    \n",
    "        \n",
    "        "
   ]
  },
  {
   "cell_type": "code",
   "execution_count": null,
   "metadata": {},
   "outputs": [],
   "source": []
  }
 ],
 "metadata": {
  "kernelspec": {
   "display_name": "Python 3",
   "language": "python",
   "name": "python3"
  },
  "language_info": {
   "codemirror_mode": {
    "name": "ipython",
    "version": 3
   },
   "file_extension": ".py",
   "mimetype": "text/x-python",
   "name": "python",
   "nbconvert_exporter": "python",
   "pygments_lexer": "ipython3",
   "version": "3.7.4"
  }
 },
 "nbformat": 4,
 "nbformat_minor": 4
}
